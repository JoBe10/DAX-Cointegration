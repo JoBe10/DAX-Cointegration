{
 "cells": [
  {
   "cell_type": "markdown",
   "metadata": {},
   "source": [
    "# Testing for Cointegration amongst German Stocks"
   ]
  },
  {
   "cell_type": "code",
   "execution_count": 15,
   "metadata": {},
   "outputs": [],
   "source": [
    "import pandas as pd\n",
    "import numpy as np\n",
    "import matplotlib.pyplot as plt\n",
    "%matplotlib inline\n",
    "from pandas_datareader import data\n",
    "from datetime import datetime\n",
    "from numpy.random import randn\n",
    "import statsmodels.tsa.stattools as ts\n",
    "import statsmodels.api as sm"
   ]
  },
  {
   "cell_type": "code",
   "execution_count": 1,
   "metadata": {},
   "outputs": [],
   "source": [
    "# Create a list of ticker symbols for DAX stocks\n",
    "dax_tickers = ['1COV.DE', 'ADS.DE', 'ALV.DE', 'BAS.DE', 'BAYN.DE', 'BEI.DE', 'BMW.DE', 'CON.DE', 'DAI.DE', \n",
    "               'DB1.DE', 'DBK.DE', 'DPW.DE', 'DTE.DE', 'DWNI.DE', 'EOAN.DE', 'FME.DE', 'FRE.DE', 'HEI.DE', \n",
    "               'HEN3.DE', 'IFX.DE', 'LIN.DE', 'MRK.DE', 'MTX.DE', 'MUV2.DE', 'RWE.DE', 'SAP.DE', 'SIE.DE', \n",
    "               'VNA.DE', 'VOW3.DE', 'WDI.DE']"
   ]
  },
  {
   "cell_type": "code",
   "execution_count": 3,
   "metadata": {},
   "outputs": [],
   "source": [
    "# Define start and end date\n",
    "start = datetime(2010, 8, 10)\n",
    "end = datetime(2020, 8, 12)"
   ]
  },
  {
   "cell_type": "code",
   "execution_count": 5,
   "metadata": {},
   "outputs": [],
   "source": [
    "# Import the adjusted closing prices for these stocks from Yahoo Finance\n",
    "dax_prices = data.DataReader(dax_tickers, data_source='yahoo', start=start, end=end)['Adj Close']"
   ]
  },
  {
   "cell_type": "code",
   "execution_count": 6,
   "metadata": {},
   "outputs": [
    {
     "data": {
      "text/plain": [
       "2538"
      ]
     },
     "execution_count": 6,
     "metadata": {},
     "output_type": "execute_result"
    }
   ],
   "source": [
    "len(dax_prices)"
   ]
  },
  {
   "cell_type": "code",
   "execution_count": 7,
   "metadata": {},
   "outputs": [
    {
     "data": {
      "text/plain": [
       "Symbols\n",
       "1COV.DE     True\n",
       "ADS.DE     False\n",
       "ALV.DE     False\n",
       "BAS.DE     False\n",
       "BAYN.DE    False\n",
       "BEI.DE     False\n",
       "BMW.DE     False\n",
       "CON.DE     False\n",
       "DAI.DE     False\n",
       "DB1.DE     False\n",
       "DBK.DE     False\n",
       "DPW.DE     False\n",
       "DTE.DE     False\n",
       "DWNI.DE    False\n",
       "EOAN.DE    False\n",
       "FME.DE     False\n",
       "FRE.DE     False\n",
       "HEI.DE     False\n",
       "HEN3.DE    False\n",
       "IFX.DE     False\n",
       "LIN.DE     False\n",
       "MRK.DE     False\n",
       "MTX.DE     False\n",
       "MUV2.DE    False\n",
       "RWE.DE     False\n",
       "SAP.DE     False\n",
       "SIE.DE     False\n",
       "VNA.DE      True\n",
       "VOW3.DE    False\n",
       "WDI.DE     False\n",
       "dtype: bool"
      ]
     },
     "execution_count": 7,
     "metadata": {},
     "output_type": "execute_result"
    }
   ],
   "source": [
    "dax_prices.isna().any()"
   ]
  },
  {
   "cell_type": "code",
   "execution_count": 9,
   "metadata": {},
   "outputs": [],
   "source": [
    "def hurst(ts):\n",
    "    # Create the range of lag values\n",
    "    lags = range(2, 100)\n",
    "    \n",
    "    #Calculate the array of the variances of the lagged differences\n",
    "    tau = [np.sqrt(np.std(np.subtract(ts[lag:], ts[:-lag]))) for lag in lags]\n",
    "    \n",
    "    # Use a linear fit to estimate the Hurst Exponent\n",
    "    poly = np.polyfit(log(lags), log(tau), 1)\n",
    "    \n",
    "    # Return the Hurst exponent from the polyfit output\n",
    "    return poly[0]*2.0"
   ]
  },
  {
   "cell_type": "code",
   "execution_count": 12,
   "metadata": {},
   "outputs": [],
   "source": [
    "ex_ts = randn(10) + 1000"
   ]
  },
  {
   "cell_type": "code",
   "execution_count": 13,
   "metadata": {},
   "outputs": [
    {
     "data": {
      "text/plain": [
       "array([ 998.83997379,  999.64606007, 1000.42912541, 1000.28091973,\n",
       "       1000.06054869,  999.40115604, 1000.65768   ,  999.83357187,\n",
       "       1000.92929803, 1001.04700049])"
      ]
     },
     "execution_count": 13,
     "metadata": {},
     "output_type": "execute_result"
    }
   ],
   "source": [
    "ex_ts"
   ]
  }
 ],
 "metadata": {
  "kernelspec": {
   "display_name": "Python 3",
   "language": "python",
   "name": "python3"
  },
  "language_info": {
   "codemirror_mode": {
    "name": "ipython",
    "version": 3
   },
   "file_extension": ".py",
   "mimetype": "text/x-python",
   "name": "python",
   "nbconvert_exporter": "python",
   "pygments_lexer": "ipython3",
   "version": "3.8.2"
  }
 },
 "nbformat": 4,
 "nbformat_minor": 4
}
